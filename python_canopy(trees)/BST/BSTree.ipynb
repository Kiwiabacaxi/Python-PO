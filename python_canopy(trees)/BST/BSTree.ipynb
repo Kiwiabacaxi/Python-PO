{
  "cells": [
    {
      "cell_type": "markdown",
      "metadata": {
        "colab_type": "text",
        "id": "view-in-github"
      },
      "source": [
        "<a href=\"https://colab.research.google.com/github/Kiwiabacaxi/Python_Canopy/blob/main/python_canopy/BST/BSTree.ipynb\" target=\"_parent\"><img src=\"https://colab.research.google.com/assets/colab-badge.svg\" alt=\"Open In Colab\"/></a>"
      ]
    },
    {
      "cell_type": "code",
      "execution_count": null,
      "metadata": {
        "id": "PhUrAq9AikvY"
      },
      "outputs": [],
      "source": [
        "!git clone https://github.com/Kiwiabacaxi/Python_Canopy.git"
      ]
    },
    {
      "cell_type": "code",
      "execution_count": null,
      "metadata": {
        "id": "5smfgZoxMPqw"
      },
      "outputs": [],
      "source": [
        "# copy files to the root folder\n",
        "!cp /content/Python_Canopy/python_canopy/BST/bin_search_tree.py /content/\n",
        "!cp /content/Python_Canopy/python_canopy/BST/graphviz_bst.py /content/\n",
        "!cp /content/Python_Canopy/python_canopy/BST/visual_package_bst.py /content/\n",
        "\n"
      ]
    },
    {
      "cell_type": "code",
      "execution_count": null,
      "metadata": {
        "id": "23IAyHBXMPqx"
      },
      "outputs": [],
      "source": [
        "# import from visual_bst to show only the visual part of the BST\n",
        "import visual_package_bst as vp\n",
        "\n",
        "# display the widgets\n",
        "vp.display_widgets()"
      ]
    }
  ],
  "metadata": {
    "colab": {
      "include_colab_link": true,
      "provenance": []
    },
    "kernelspec": {
      "display_name": "Python 3",
      "name": "python3"
    },
    "language_info": {
      "codemirror_mode": {
        "name": "ipython",
        "version": 3
      },
      "file_extension": ".py",
      "mimetype": "text/x-python",
      "name": "python",
      "nbconvert_exporter": "python",
      "pygments_lexer": "ipython3",
      "version": "3.9.0"
    }
  },
  "nbformat": 4,
  "nbformat_minor": 0
}
